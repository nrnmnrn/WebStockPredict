{
 "cells": [
  {
   "cell_type": "code",
   "execution_count": null,
   "metadata": {},
   "outputs": [],
   "source": [
    "import json\n",
    "import os\n",
    "import requests\n",
    "import pandas as pd\n",
    "from datetime import datetime,timedelta\n",
    "\n",
    "Date = '20230901'\n",
    "Code = '0050'\n",
    "\n",
    "html = requests.get('https://www.twse.com.tw/exchangeReport/STOCK_DAY?response=json&date=%s&stockNo=%s' % (Date, Code))\n",
    "content = json.loads(html.text)\n",
    "Name = content['title']\n",
    "stock_data = content['data']\n",
    "col_name = content['fields']\n",
    "\n",
    "df = pd.DataFrame(data=stock_data, columns=col_name)\n",
    "df = df.rename(columns={\n",
    "    \"日期\": \"Date\",\n",
    "    \"成交股數\": \"Volume\",\n",
    "    \"成交金額\": \"Turnover\",\n",
    "    \"開盤價\": \"Open\",\n",
    "    \"最高價\": \"High\",\n",
    "    \"最低價\": \"Low\",\n",
    "    \"收盤價\": \"Close\",\n",
    "    \"漲跌價差\": \"Price Change\",\n",
    "    \"成交筆數\": \"Transactions\"\n",
    "})\n",
    "df[\"Name\"] = \"元大台灣50\"\n",
    "df[\"Code\"] = \"0050\"\n",
    "df = df[[\"Date\", \"Code\", \"Name\", \"Open\", \"Close\", \"High\", \"Low\", \"Volume\"]]\n",
    "print(df)"
   ]
  }
 ],
 "metadata": {
  "kernelspec": {
   "display_name": "WebStockPredict",
   "language": "python",
   "name": "python3"
  },
  "language_info": {
   "codemirror_mode": {
    "name": "ipython",
    "version": 3
   },
   "file_extension": ".py",
   "mimetype": "text/x-python",
   "name": "python",
   "nbconvert_exporter": "python",
   "pygments_lexer": "ipython3",
   "version": "3.6.6"
  }
 },
 "nbformat": 4,
 "nbformat_minor": 2
}
